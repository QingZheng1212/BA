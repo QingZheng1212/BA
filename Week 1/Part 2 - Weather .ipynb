{
 "cells": [
  {
   "cell_type": "markdown",
   "metadata": {},
   "source": [
    "*Francisco Pereira [camara@dtu.dk], DTU Management*\n",
    "\n",
    "*Stanislav Borysov [stabo@dtu.dk], DTU Management*\n",
    "# Advanced Business Analytics"
   ]
  },
  {
   "cell_type": "markdown",
   "metadata": {},
   "source": [
    "## Lecture 1 - Web Data Mining - Part 2: Weather data"
   ]
  },
  {
   "cell_type": "markdown",
   "metadata": {},
   "source": [
    "A lot of valuable data can be collected from online sources. It can be used to get insights, make predictions, etc. In this notebook, we're going to practice data collection from online sources using API. Particularly, we will collect social media data from Twitter and weather data from Weatherbit."
   ]
  },
  {
   "cell_type": "markdown",
   "metadata": {},
   "source": [
    "### 1. Getting weather data from https://www.weatherbit.io/"
   ]
  },
  {
   "cell_type": "markdown",
   "metadata": {},
   "source": [
    "#### 1.1. Creating developer account\n",
    "\n",
    "1. Register on the website\n",
    "2. Get API key in the dashboard https://www.weatherbit.io/account/dashboard\n",
    "**If you see the following message: \"Your API Key is still provisioning. Provisioning can take up to 30 mins.\", go to Part 3 until your key is ready.**\n",
    "\n",
    "Note that the free plan includes:\n",
    "\n",
    "- 500 calls/day\n",
    "- 500 historical calls/day (trial)\n",
    "- 1 month historical\n",
    "- 16 day forecasts\n",
    "- 48 hour forecasts (trial)\n",
    "- Air Quality / Energy API (trial)\n",
    "- Non-Commercial use only\n",
    "- 95.0% Uptime\n",
    "- Data update delay: 1 hour\n",
    "\n",
    "So use your API calls carefully!\n",
    "\n",
    "API documentation: https://www.weatherbit.io/api"
   ]
  },
  {
   "cell_type": "markdown",
   "metadata": {},
   "source": [
    "#### 1.2. Getting current weather\n",
    "https://www.weatherbit.io/api/weather-current\n",
    "\n",
    "Current weather can be obtained as a response from such kind of url = 'https://api.weatherbit.io/v2.0/current?lat=X&lon=Y&key=api_key'\n",
    "\n",
    "Let's get the weather for DTU. For that, we need the coordinates of DTU. You can use many different sources to get the coordinates, for example, Wikipedia or Google maps. For instance, coordinates of the little mermaid are ```lat=55.693019``` and ```lon=12.599266```."
   ]
  },
  {
   "cell_type": "code",
   "execution_count": 64,
   "metadata": {},
   "outputs": [],
   "source": [
    "api_key = '4bc5cee5a11e446787c53a2448c7f39c'\n",
    "dtu_lat = '77.1177' \n",
    "dtu_lon = '28.7501'"
   ]
  },
  {
   "cell_type": "markdown",
   "metadata": {},
   "source": [
    "Let's generate the request url and try it in the browser first. To format strings, the ```format``` function is very handy:\n",
    "```\n",
    "'lat={}&lon={}&key={}'.format(dtu_lat, dtu_lon, api_key)\n",
    "```\n",
    "will insert these three values into the string"
   ]
  },
  {
   "cell_type": "code",
   "execution_count": 65,
   "metadata": {},
   "outputs": [
    {
     "data": {
      "text/plain": [
       "'lat=77.1177&lon=28.7501&key=4bc5cee5a11e446787c53a2448c7f39c'"
      ]
     },
     "execution_count": 65,
     "metadata": {},
     "output_type": "execute_result"
    }
   ],
   "source": [
    "'lat={}&lon={}&key={}'.format(dtu_lat, dtu_lon, api_key)"
   ]
  },
  {
   "cell_type": "markdown",
   "metadata": {},
   "source": [
    "Copy it to the browser and check if you get any response. To get response in python, we can use the ```urllib``` library: \n",
    "```\n",
    "import urllib.request\n",
    "contents = urllib.request.urlopen(\"http://example.com/foo/bar\").read().decode(\"utf-8\")\n",
    "```"
   ]
  },
  {
   "cell_type": "code",
   "execution_count": 66,
   "metadata": {},
   "outputs": [
    {
     "data": {
      "text/plain": [
       "'{\"data\":[{\"rh\":82.75,\"pod\":\"n\",\"lon\":28.75,\"pres\":1010.5,\"timezone\":\"Europe\\\\/Oslo\",\"ob_time\":\"2021-02-05 21:28\",\"country_code\":\"NO\",\"clouds\":100,\"ts\":1612560524,\"solar_rad\":0,\"state_code\":\"05\",\"city_name\":\"Mehamn\",\"wind_spd\":8.44499,\"wind_cdir_full\":\"north-northeast\",\"wind_cdir\":\"NNE\",\"slp\":1029,\"vis\":1,\"h_angle\":-90,\"sunset\":\"13:06\",\"dni\":0,\"dewpt\":-6.9,\"snow\":0,\"uv\":0,\"precip\":0,\"wind_dir\":31,\"sunrise\":\"07:39\",\"ghi\":0,\"dhi\":0,\"aqi\":null,\"lat\":77.12,\"weather\":{\"icon\":\"c04n\",\"code\":804,\"description\":\"Overcast Clouds\"},\"datetime\":\"2021-02-05:21\",\"temp\":-4.3,\"station\":\"ENMH\",\"elev_angle\":-26.28,\"app_temp\":-10.3}],\"count\":1}\\n'"
      ]
     },
     "execution_count": 66,
     "metadata": {},
     "output_type": "execute_result"
    }
   ],
   "source": [
    "import urllib.request\n",
    "contents = urllib.request.urlopen('https://api.weatherbit.io/v2.0/current?lat=77.1177&lon=28.7501&key=4bc5cee5a11e446787c53a2448c7f39c').read().decode(\"utf-8\")\n",
    "contents"
   ]
  },
  {
   "cell_type": "markdown",
   "metadata": {},
   "source": [
    "As you can see, the response is a string, so let's parse it into a dictionary using the ```json``` library"
   ]
  },
  {
   "cell_type": "code",
   "execution_count": 67,
   "metadata": {},
   "outputs": [
    {
     "data": {
      "text/plain": [
       "{'data': [{'rh': 82.75,\n",
       "   'pod': 'n',\n",
       "   'lon': 28.75,\n",
       "   'pres': 1010.5,\n",
       "   'timezone': 'Europe/Oslo',\n",
       "   'ob_time': '2021-02-05 21:28',\n",
       "   'country_code': 'NO',\n",
       "   'clouds': 100,\n",
       "   'ts': 1612560524,\n",
       "   'solar_rad': 0,\n",
       "   'state_code': '05',\n",
       "   'city_name': 'Mehamn',\n",
       "   'wind_spd': 8.44499,\n",
       "   'wind_cdir_full': 'north-northeast',\n",
       "   'wind_cdir': 'NNE',\n",
       "   'slp': 1029,\n",
       "   'vis': 1,\n",
       "   'h_angle': -90,\n",
       "   'sunset': '13:06',\n",
       "   'dni': 0,\n",
       "   'dewpt': -6.9,\n",
       "   'snow': 0,\n",
       "   'uv': 0,\n",
       "   'precip': 0,\n",
       "   'wind_dir': 31,\n",
       "   'sunrise': '07:39',\n",
       "   'ghi': 0,\n",
       "   'dhi': 0,\n",
       "   'aqi': None,\n",
       "   'lat': 77.12,\n",
       "   'weather': {'icon': 'c04n', 'code': 804, 'description': 'Overcast Clouds'},\n",
       "   'datetime': '2021-02-05:21',\n",
       "   'temp': -4.3,\n",
       "   'station': 'ENMH',\n",
       "   'elev_angle': -26.28,\n",
       "   'app_temp': -10.3}],\n",
       " 'count': 1}"
      ]
     },
     "execution_count": 67,
     "metadata": {},
     "output_type": "execute_result"
    }
   ],
   "source": [
    "import json\n",
    "weather_dict = json.loads(contents)\n",
    "weather_dict"
   ]
  },
  {
   "cell_type": "markdown",
   "metadata": {},
   "source": [
    "Look outside the window. Is it what you expected? :)"
   ]
  },
  {
   "cell_type": "markdown",
   "metadata": {},
   "source": [
    "#### 1.3. Getting historical data"
   ]
  },
  {
   "cell_type": "markdown",
   "metadata": {},
   "source": [
    "**UNFORTUNATELY, WEATHERBIT.IO CHANGED ACCESS TO HISTORICAL DATA WITHOUT SIGNING UP FOR A TRIAL VERSION. THE CODE IN THIS SUBSECTION MAY WORK DIFFERENTLY THAN ORIGINALLY PLANNED (but do try it) :(**"
   ]
  },
  {
   "cell_type": "markdown",
   "metadata": {},
   "source": [
    "Historical weather data is usually more difficult to get for free because it has business value. Weatherbit.io offers 200 calls per day for the free account. It's not much but still enough for our purposes. It's better to use calls for 10 days not to exceed the limits at once (don't worry, the data for the further analysis will be provided).\n",
    "\n",
    "To get historical weather, use the response from the following URL:\n",
    "\n",
    "```https://api.weatherbit.io/v2.0/history/daily?city=Raleigh,NC&start_date=YYYY-MM-DD&end_date=YYYY-MM-DD&key=API_KEY```\n",
    "\n",
    "You might want to check the full documentation here: https://www.weatherbit.io/api/weather-history-daily"
   ]
  },
  {
   "cell_type": "markdown",
   "metadata": {},
   "source": [
    "The url requires specifying ```start_date``` and ```end_date```. Note that under the free plan the distance between them should not exceed one day, e.g. ```start_date=2018-09-17&end_date=2018-09-18```. So, let's generate a list of the dates for the requests first. In this case, our old good friend, the ```datatime``` library, will help us again. Use the ```timedelta``` function to generate the previous day:\n",
    "```\n",
    "import datetime\n",
    "date_1 = \"2018-08-31\"\n",
    "date_0 = datetime.datetime.strptime(date_1, \"%Y-%m-%d\") - datetime.timedelta(days=1)\n",
    "date_0 = date_0.strftime(\"%Y-%m-%d\") \n",
    "print(date_0) # will print \"2018-08-30\"\n",
    "```"
   ]
  },
  {
   "cell_type": "code",
   "execution_count": 68,
   "metadata": {},
   "outputs": [
    {
     "name": "stdout",
     "output_type": "stream",
     "text": [
      "2018-08-30\n"
     ]
    }
   ],
   "source": [
    "import datetime\n",
    "date_1 = \"2018-08-31\"\n",
    "date_0 = datetime.datetime.strptime(date_1, \"%Y-%m-%d\") - datetime.timedelta(days=1)\n",
    "date_0 = date_0.strftime(\"%Y-%m-%d\") \n",
    "print(date_0)"
   ]
  },
  {
   "cell_type": "markdown",
   "metadata": {},
   "source": [
    "Now, it's time to collect our data. Get a list of 10 historical weather observations and print it. Remember, you need to make a separate call to the website for each pair of dates. Use the json.loads(response) to parse the response string as in the previous exercise."
   ]
  },
  {
   "cell_type": "code",
   "execution_count": 69,
   "metadata": {},
   "outputs": [],
   "source": [
    "api_key = '4bc5cee5a11e446787c53a2448c7f39c'\n",
    "start_date =date_0\n",
    "end_date = \"2018-08-31\""
   ]
  },
  {
   "cell_type": "code",
   "execution_count": 70,
   "metadata": {},
   "outputs": [
    {
     "data": {
      "text/plain": [
       "'start_date=2018-08-30&end_date=2018-08-31&key=4bc5cee5a11e446787c53a2448c7f39c'"
      ]
     },
     "execution_count": 70,
     "metadata": {},
     "output_type": "execute_result"
    }
   ],
   "source": [
    "'start_date={}&end_date={}&key={}'.format(start_date, end_date, api_key)"
   ]
  },
  {
   "cell_type": "code",
   "execution_count": 76,
   "metadata": {},
   "outputs": [
    {
     "data": {
      "text/plain": [
       "'https://api.weatherbit.io/v2.0/history/daily?&lat=77.1177&lon=28.7501&start_date=2018-08-30&end_date=2018-08-31&key=4bc5cee5a11e446787c53a2448c7f39c'"
      ]
     },
     "execution_count": 76,
     "metadata": {},
     "output_type": "execute_result"
    }
   ],
   "source": [
    "a='start_date={}&end_date={}&key={}'.format(start_date, end_date, api_key)\n",
    "mainLink =\"https://api.weatherbit.io/v2.0/history/daily?&lat=77.1177&lon=28.7501&\"\n",
    "link=mainLink + a\n",
    "link"
   ]
  },
  {
   "cell_type": "code",
   "execution_count": 77,
   "metadata": {},
   "outputs": [
    {
     "data": {
      "text/plain": [
       "'{\"timezone\":\"Europe\\\\/Oslo\",\"state_code\":\"05\",\"country_code\":\"NO\",\"lat\":77.1177,\"lon\":28.7501,\"city_name\":\"Mehamn\",\"station_id\":\"010160-99999\",\"data\":[{\"rh\":97.5,\"max_wind_spd_ts\":1535659200,\"t_ghi\":2931.7,\"max_wind_spd\":15,\"solar_rad\":120.6,\"wind_gust_spd\":15,\"max_temp_ts\":1535637600,\"min_temp_ts\":1535580000,\"clouds\":18,\"max_dni\":657.5,\"precip_gpm\":0,\"wind_spd\":7.5,\"slp\":1002.6,\"ts\":1535580000,\"max_ghi\":291.8,\"temp\":3.3,\"pres\":1000.1,\"dni\":356.6,\"dewpt\":3,\"snow\":null,\"dhi\":41.2,\"precip\":0,\"wind_dir\":172,\"max_dhi\":75.5,\"ghi\":122.2,\"max_temp\":3.9,\"t_dni\":8558.9,\"max_uv\":2.2,\"t_dhi\":988.5,\"datetime\":\"2018-08-30\",\"t_solar_rad\":2893.2,\"min_temp\":2.6,\"max_wind_dir\":220,\"snow_depth\":null}],\"sources\":[\"010160-99999\",\"imerg\",\"merra2\",\"era5\",\"modis\"],\"city_id\":\"778707\"}\\n'"
      ]
     },
     "execution_count": 77,
     "metadata": {},
     "output_type": "execute_result"
    }
   ],
   "source": [
    "historical = urllib.request.urlopen(link).read().decode(\"utf-8\")\n",
    "historical"
   ]
  },
  {
   "cell_type": "code",
   "execution_count": 78,
   "metadata": {},
   "outputs": [
    {
     "data": {
      "text/plain": [
       "{'timezone': 'Europe/Oslo',\n",
       " 'state_code': '05',\n",
       " 'country_code': 'NO',\n",
       " 'lat': 77.1177,\n",
       " 'lon': 28.7501,\n",
       " 'city_name': 'Mehamn',\n",
       " 'station_id': '010160-99999',\n",
       " 'data': [{'rh': 97.5,\n",
       "   'max_wind_spd_ts': 1535659200,\n",
       "   't_ghi': 2931.7,\n",
       "   'max_wind_spd': 15,\n",
       "   'solar_rad': 120.6,\n",
       "   'wind_gust_spd': 15,\n",
       "   'max_temp_ts': 1535637600,\n",
       "   'min_temp_ts': 1535580000,\n",
       "   'clouds': 18,\n",
       "   'max_dni': 657.5,\n",
       "   'precip_gpm': 0,\n",
       "   'wind_spd': 7.5,\n",
       "   'slp': 1002.6,\n",
       "   'ts': 1535580000,\n",
       "   'max_ghi': 291.8,\n",
       "   'temp': 3.3,\n",
       "   'pres': 1000.1,\n",
       "   'dni': 356.6,\n",
       "   'dewpt': 3,\n",
       "   'snow': None,\n",
       "   'dhi': 41.2,\n",
       "   'precip': 0,\n",
       "   'wind_dir': 172,\n",
       "   'max_dhi': 75.5,\n",
       "   'ghi': 122.2,\n",
       "   'max_temp': 3.9,\n",
       "   't_dni': 8558.9,\n",
       "   'max_uv': 2.2,\n",
       "   't_dhi': 988.5,\n",
       "   'datetime': '2018-08-30',\n",
       "   't_solar_rad': 2893.2,\n",
       "   'min_temp': 2.6,\n",
       "   'max_wind_dir': 220,\n",
       "   'snow_depth': None}],\n",
       " 'sources': ['010160-99999', 'imerg', 'merra2', 'era5', 'modis'],\n",
       " 'city_id': '778707'}"
      ]
     },
     "execution_count": 78,
     "metadata": {},
     "output_type": "execute_result"
    }
   ],
   "source": [
    "historical_dict = json.loads(historical)\n",
    "historical_dict"
   ]
  },
  {
   "cell_type": "code",
   "execution_count": 79,
   "metadata": {},
   "outputs": [
    {
     "name": "stdout",
     "output_type": "stream",
     "text": [
      "2018-08-30\n"
     ]
    }
   ],
   "source": [
    "import datetime\n",
    "date_1 = \"2018-08-31\"\n",
    "date_0 = datetime.datetime.strptime(date_1, \"%Y-%m-%d\") - datetime.timedelta(days=1)\n",
    "date_0 = date_0.strftime(\"%Y-%m-%d\") \n",
    "print(date_0)"
   ]
  },
  {
   "cell_type": "code",
   "execution_count": 81,
   "metadata": {},
   "outputs": [
    {
     "data": {
      "text/plain": [
       "'{\"data\":[{\"rh\":82.75,\"pod\":\"n\",\"lon\":28.75,\"pres\":1010.5,\"timezone\":\"Europe\\\\/Oslo\",\"ob_time\":\"2021-02-05 21:28\",\"country_code\":\"NO\",\"clouds\":100,\"ts\":1612560524,\"solar_rad\":0,\"state_code\":\"05\",\"city_name\":\"Mehamn\",\"wind_spd\":8.44499,\"wind_cdir_full\":\"north-northeast\",\"wind_cdir\":\"NNE\",\"slp\":1029,\"vis\":1,\"h_angle\":-90,\"sunset\":\"13:06\",\"dni\":0,\"dewpt\":-6.9,\"snow\":0,\"uv\":0,\"precip\":0,\"wind_dir\":31,\"sunrise\":\"07:39\",\"ghi\":0,\"dhi\":0,\"aqi\":null,\"lat\":77.12,\"weather\":{\"icon\":\"c04n\",\"code\":804,\"description\":\"Overcast Clouds\"},\"datetime\":\"2021-02-05:21\",\"temp\":-4.3,\"station\":\"ENMH\",\"elev_angle\":-26.28,\"app_temp\":-10.3}],\"count\":1}\\n'"
      ]
     },
     "execution_count": 81,
     "metadata": {},
     "output_type": "execute_result"
    }
   ],
   "source": [
    "contents = urllib.request.urlopen('https://api.weatherbit.io/v2.0/current?lat=77.1177&lon=28.7501&key=4bc5cee5a11e446787c53a2448c7f39c').read().decode(\"utf-8\")\n",
    "contents"
   ]
  },
  {
   "cell_type": "code",
   "execution_count": null,
   "metadata": {},
   "outputs": [],
   "source": []
  },
  {
   "cell_type": "code",
   "execution_count": 82,
   "metadata": {},
   "outputs": [],
   "source": [
    "observations = []\n",
    "date_1 = \"2018-08-31\"\n",
    "for i in range(10):\n",
    "    date_0 = datetime.datetime.strptime(date_1, \"%Y-%m-%d\") - datetime.timedelta(days=1)\n",
    "    date_0 = date_0.strftime(\"%Y-%m-%d\") \n",
    "    contents = urllib.request.urlopen(\"https://api.weatherbit.io/v2.0/history/daily?&lat=77.1177&lon=28.7501&start_date=\"+date_0+\"&end_date=\"+date_1+\"&key=\"+api_key).read().decode(\"utf-8\")\n",
    "    observations.append(json.loads(contents))\n",
    "    date_1 = date_0"
   ]
  },
  {
   "cell_type": "code",
   "execution_count": 63,
   "metadata": {},
   "outputs": [
    {
     "data": {
      "text/plain": [
       "[{'timezone': 'Europe/Oslo',\n",
       "  'state_code': '05',\n",
       "  'country_code': 'NO',\n",
       "  'lat': 77.1177,\n",
       "  'lon': 28.7501,\n",
       "  'city_name': 'Mehamn',\n",
       "  'station_id': '010160-99999',\n",
       "  'data': [{'rh': 97.5,\n",
       "    'max_wind_spd_ts': 1535659200,\n",
       "    't_ghi': 2931.7,\n",
       "    'max_wind_spd': 15,\n",
       "    'solar_rad': 120.6,\n",
       "    'wind_gust_spd': 15,\n",
       "    'max_temp_ts': 1535637600,\n",
       "    'min_temp_ts': 1535580000,\n",
       "    'clouds': 18,\n",
       "    'max_dni': 657.5,\n",
       "    'precip_gpm': 0,\n",
       "    'wind_spd': 7.5,\n",
       "    'slp': 1002.6,\n",
       "    'ts': 1535580000,\n",
       "    'max_ghi': 291.8,\n",
       "    'temp': 3.3,\n",
       "    'pres': 1000.1,\n",
       "    'dni': 356.6,\n",
       "    'dewpt': 3,\n",
       "    'snow': None,\n",
       "    'dhi': 41.2,\n",
       "    'precip': 0,\n",
       "    'wind_dir': 172,\n",
       "    'max_dhi': 75.5,\n",
       "    'ghi': 122.2,\n",
       "    'max_temp': 3.9,\n",
       "    't_dni': 8558.9,\n",
       "    'max_uv': 2.2,\n",
       "    't_dhi': 988.5,\n",
       "    'datetime': '2018-08-30',\n",
       "    't_solar_rad': 2893.2,\n",
       "    'min_temp': 2.6,\n",
       "    'max_wind_dir': 220,\n",
       "    'snow_depth': None}],\n",
       "  'sources': ['010160-99999', 'imerg', 'merra2', 'era5', 'modis'],\n",
       "  'city_id': '778707'},\n",
       " {'timezone': 'Europe/Oslo',\n",
       "  'state_code': '05',\n",
       "  'country_code': 'NO',\n",
       "  'lat': 77.1177,\n",
       "  'lon': 28.7501,\n",
       "  'city_name': 'Mehamn',\n",
       "  'station_id': '010160-99999',\n",
       "  'data': [{'rh': 91.7,\n",
       "    'max_wind_spd_ts': 1535493600,\n",
       "    't_ghi': 3031.8,\n",
       "    'max_wind_spd': 9,\n",
       "    'solar_rad': 118.8,\n",
       "    'wind_gust_spd': 9,\n",
       "    'max_temp_ts': 1535536800,\n",
       "    'min_temp_ts': 1535493600,\n",
       "    'clouds': 22,\n",
       "    'max_dni': 662,\n",
       "    'precip_gpm': 0,\n",
       "    'wind_spd': 6.2,\n",
       "    'slp': 1014.7,\n",
       "    'ts': 1535493600,\n",
       "    'max_ghi': 298,\n",
       "    'temp': 2.2,\n",
       "    'pres': 1012.2,\n",
       "    'dni': 365,\n",
       "    'dewpt': 1.1,\n",
       "    'snow': None,\n",
       "    'dhi': 42.1,\n",
       "    'precip': 0,\n",
       "    'wind_dir': 205,\n",
       "    'max_dhi': 76.2,\n",
       "    'ghi': 126.3,\n",
       "    'max_temp': 3,\n",
       "    't_dni': 8759,\n",
       "    'max_uv': 2.2,\n",
       "    't_dhi': 1011.3,\n",
       "    'datetime': '2018-08-29',\n",
       "    't_solar_rad': 2852.1,\n",
       "    'min_temp': 0.4,\n",
       "    'max_wind_dir': 230,\n",
       "    'snow_depth': None}],\n",
       "  'sources': ['010160-99999', 'imerg', 'merra2', 'era5', 'modis'],\n",
       "  'city_id': '778707'},\n",
       " {'timezone': 'Europe/Oslo',\n",
       "  'state_code': '05',\n",
       "  'country_code': 'NO',\n",
       "  'lat': 77.1177,\n",
       "  'lon': 28.7501,\n",
       "  'city_name': 'Mehamn',\n",
       "  'station_id': '010160-99999',\n",
       "  'data': [{'rh': 95,\n",
       "    'max_wind_spd_ts': 1535482800,\n",
       "    't_ghi': 3133.4,\n",
       "    'max_wind_spd': 7,\n",
       "    'solar_rad': 130.5,\n",
       "    'wind_gust_spd': 7,\n",
       "    'max_temp_ts': 1535464800,\n",
       "    'min_temp_ts': 1535446800,\n",
       "    'clouds': 4,\n",
       "    'max_dni': 666.5,\n",
       "    'precip_gpm': 0,\n",
       "    'wind_spd': 5.5,\n",
       "    'slp': 1009.8,\n",
       "    'ts': 1535407200,\n",
       "    'max_ghi': 304.1,\n",
       "    'temp': 0.8,\n",
       "    'pres': 1007.3,\n",
       "    'dni': 373.3,\n",
       "    'dewpt': 0.1,\n",
       "    'snow': None,\n",
       "    'dhi': 43.3,\n",
       "    'precip': 0,\n",
       "    'wind_dir': 57,\n",
       "    'max_dhi': 76.8,\n",
       "    'ghi': 130.6,\n",
       "    'max_temp': 1.3,\n",
       "    't_dni': 8959,\n",
       "    'max_uv': 2.3,\n",
       "    't_dhi': 1038.5,\n",
       "    'datetime': '2018-08-28',\n",
       "    't_solar_rad': 3132.7,\n",
       "    'min_temp': 0.3,\n",
       "    'max_wind_dir': 360,\n",
       "    'snow_depth': None}],\n",
       "  'sources': ['010160-99999', 'imerg', 'merra2', 'era5', 'modis'],\n",
       "  'city_id': '778707'},\n",
       " {'timezone': 'Europe/Oslo',\n",
       "  'state_code': '05',\n",
       "  'country_code': 'NO',\n",
       "  'lat': 77.1177,\n",
       "  'lon': 28.7501,\n",
       "  'city_name': 'Mehamn',\n",
       "  'station_id': '010160-99999',\n",
       "  'data': [{'rh': 87.8,\n",
       "    'max_wind_spd_ts': 1535346000,\n",
       "    't_ghi': 3236.9,\n",
       "    'max_wind_spd': 5,\n",
       "    'solar_rad': 134.9,\n",
       "    'wind_gust_spd': 5,\n",
       "    'max_temp_ts': 1535360400,\n",
       "    'min_temp_ts': 1535335200,\n",
       "    'clouds': 2,\n",
       "    'max_dni': 670.8,\n",
       "    'precip_gpm': 0,\n",
       "    'wind_spd': 2.7,\n",
       "    'slp': 1007.1,\n",
       "    'ts': 1535320800,\n",
       "    'max_ghi': 310.1,\n",
       "    'temp': 2,\n",
       "    'pres': 1004.6,\n",
       "    'dni': 382.1,\n",
       "    'dewpt': 0.5,\n",
       "    'snow': None,\n",
       "    'dhi': 44.4,\n",
       "    'precip': 0,\n",
       "    'wind_dir': 177,\n",
       "    'max_dhi': 77.5,\n",
       "    'ghi': 134.9,\n",
       "    'max_temp': 3.2,\n",
       "    't_dni': 9170,\n",
       "    'max_uv': 2.3,\n",
       "    't_dhi': 1064.8,\n",
       "    'datetime': '2018-08-27',\n",
       "    't_solar_rad': 3236.9,\n",
       "    'min_temp': 1,\n",
       "    'max_wind_dir': 360,\n",
       "    'snow_depth': None}],\n",
       "  'sources': ['010160-99999', 'imerg', 'merra2', 'era5', 'modis'],\n",
       "  'city_id': '778707'},\n",
       " {'timezone': 'Europe/Oslo',\n",
       "  'state_code': '05',\n",
       "  'country_code': 'NO',\n",
       "  'lat': 77.1177,\n",
       "  'lon': 28.7501,\n",
       "  'city_name': 'Mehamn',\n",
       "  'station_id': '010160-99999',\n",
       "  'data': [{'rh': 91.5,\n",
       "    'max_wind_spd_ts': 1535241600,\n",
       "    't_ghi': 3341.7,\n",
       "    'max_wind_spd': 13,\n",
       "    'solar_rad': 139.2,\n",
       "    'wind_gust_spd': 13,\n",
       "    'max_temp_ts': 1535284800,\n",
       "    'min_temp_ts': 1535256000,\n",
       "    'clouds': 0,\n",
       "    'max_dni': 675,\n",
       "    'precip_gpm': 0,\n",
       "    'wind_spd': 8.5,\n",
       "    'slp': 998.4,\n",
       "    'ts': 1535234400,\n",
       "    'max_ghi': 316.1,\n",
       "    'temp': 1.5,\n",
       "    'pres': 995.9,\n",
       "    'dni': 391.1,\n",
       "    'dewpt': 0.3,\n",
       "    'snow': None,\n",
       "    'dhi': 45.4,\n",
       "    'precip': 0,\n",
       "    'wind_dir': 86,\n",
       "    'max_dhi': 78.1,\n",
       "    'ghi': 139.2,\n",
       "    'max_temp': 1.8,\n",
       "    't_dni': 9386.4,\n",
       "    'max_uv': 2.3,\n",
       "    't_dhi': 1090.7,\n",
       "    'datetime': '2018-08-26',\n",
       "    't_solar_rad': 3341.7,\n",
       "    'min_temp': 1.3,\n",
       "    'max_wind_dir': 360,\n",
       "    'snow_depth': None}],\n",
       "  'sources': ['010160-99999', 'imerg', 'merra2', 'era5', 'modis'],\n",
       "  'city_id': '778707'},\n",
       " {'timezone': 'Europe/Oslo',\n",
       "  'state_code': '05',\n",
       "  'country_code': 'NO',\n",
       "  'lat': 77.1177,\n",
       "  'lon': 28.7501,\n",
       "  'city_name': 'Mehamn',\n",
       "  'station_id': '010160-99999',\n",
       "  'data': [{'rh': 88,\n",
       "    'max_wind_spd_ts': 1535230800,\n",
       "    't_ghi': 3448.4,\n",
       "    'max_wind_spd': 12,\n",
       "    'solar_rad': 142.7,\n",
       "    'wind_gust_spd': 12,\n",
       "    'max_temp_ts': 1535155200,\n",
       "    'min_temp_ts': 1535166000,\n",
       "    'clouds': 8,\n",
       "    'max_dni': 679.1,\n",
       "    'precip_gpm': 0,\n",
       "    'wind_spd': 7.3,\n",
       "    'slp': 1008.4,\n",
       "    'ts': 1535148000,\n",
       "    'max_ghi': 322,\n",
       "    'temp': 1.9,\n",
       "    'pres': 1005.9,\n",
       "    'dni': 400.3,\n",
       "    'dewpt': 0.1,\n",
       "    'snow': None,\n",
       "    'dhi': 46.7,\n",
       "    'precip': 0,\n",
       "    'wind_dir': 36,\n",
       "    'max_dhi': 78.7,\n",
       "    'ghi': 143.7,\n",
       "    'max_temp': 2.3,\n",
       "    't_dni': 9606.9,\n",
       "    'max_uv': 2.4,\n",
       "    't_dhi': 1121.8,\n",
       "    'datetime': '2018-08-25',\n",
       "    't_solar_rad': 3424,\n",
       "    'min_temp': 0.9,\n",
       "    'max_wind_dir': 70,\n",
       "    'snow_depth': None}],\n",
       "  'sources': ['010160-99999', 'imerg', 'merra2', 'era5', 'modis'],\n",
       "  'city_id': '778707'},\n",
       " {'timezone': 'Europe/Oslo',\n",
       "  'state_code': '05',\n",
       "  'country_code': 'NO',\n",
       "  'lat': 77.1177,\n",
       "  'lon': 28.7501,\n",
       "  'city_name': 'Mehamn',\n",
       "  'station_id': '010160-99999',\n",
       "  'data': [{'rh': 88.7,\n",
       "    'max_wind_spd_ts': 1535097600,\n",
       "    't_ghi': 3557.8,\n",
       "    'max_wind_spd': 10,\n",
       "    'solar_rad': 127,\n",
       "    'wind_gust_spd': 10,\n",
       "    'max_temp_ts': 1535104800,\n",
       "    'min_temp_ts': 1535137200,\n",
       "    'clouds': 49,\n",
       "    'max_dni': 683.1,\n",
       "    'precip_gpm': 0,\n",
       "    'wind_spd': 8.9,\n",
       "    'slp': 1009.2,\n",
       "    'ts': 1535061600,\n",
       "    'max_ghi': 327.9,\n",
       "    'temp': 2,\n",
       "    'pres': 1006.7,\n",
       "    'dni': 410.2,\n",
       "    'dewpt': 0.4,\n",
       "    'snow': None,\n",
       "    'dhi': 48.1,\n",
       "    'precip': 0,\n",
       "    'wind_dir': 20,\n",
       "    'max_dhi': 79.3,\n",
       "    'ghi': 148.2,\n",
       "    'max_temp': 2.8,\n",
       "    't_dni': 9844.3,\n",
       "    'max_uv': 2,\n",
       "    't_dhi': 1153.7,\n",
       "    'datetime': '2018-08-24',\n",
       "    't_solar_rad': 3048.7,\n",
       "    'min_temp': 1.4,\n",
       "    'max_wind_dir': 30,\n",
       "    'snow_depth': None}],\n",
       "  'sources': ['010160-99999', 'imerg', 'merra2', 'era5', 'modis'],\n",
       "  'city_id': '778707'},\n",
       " {'timezone': 'Europe/Oslo',\n",
       "  'state_code': '05',\n",
       "  'country_code': 'NO',\n",
       "  'lat': 77.1177,\n",
       "  'lon': 28.7501,\n",
       "  'city_name': 'Mehamn',\n",
       "  'station_id': '010160-99999',\n",
       "  'data': [{'rh': 86,\n",
       "    'max_wind_spd_ts': 1534993200,\n",
       "    't_ghi': 3669.3,\n",
       "    'max_wind_spd': 8,\n",
       "    'solar_rad': 111.3,\n",
       "    'wind_gust_spd': 8,\n",
       "    'max_temp_ts': 1535029200,\n",
       "    'min_temp_ts': 1535054400,\n",
       "    'clouds': 65,\n",
       "    'max_dni': 686.9,\n",
       "    'precip_gpm': 0,\n",
       "    'wind_spd': 3.3,\n",
       "    'slp': 1008.5,\n",
       "    'ts': 1534975200,\n",
       "    'max_ghi': 333.8,\n",
       "    'temp': 3,\n",
       "    'pres': 1006,\n",
       "    'dni': 420.7,\n",
       "    'dewpt': 0.9,\n",
       "    'snow': None,\n",
       "    'dhi': 49.3,\n",
       "    'precip': 0,\n",
       "    'wind_dir': 58,\n",
       "    'max_dhi': 79.8,\n",
       "    'ghi': 152.9,\n",
       "    'max_temp': 4.5,\n",
       "    't_dni': 10095.9,\n",
       "    'max_uv': 1.4,\n",
       "    't_dhi': 1184.1,\n",
       "    'datetime': '2018-08-23',\n",
       "    't_solar_rad': 2671.3,\n",
       "    'min_temp': 1.3,\n",
       "    'max_wind_dir': 340,\n",
       "    'snow_depth': None}],\n",
       "  'sources': ['010160-99999', 'imerg', 'merra2', 'era5', 'modis'],\n",
       "  'city_id': '778707'},\n",
       " {'timezone': 'Europe/Oslo',\n",
       "  'state_code': '05',\n",
       "  'country_code': 'NO',\n",
       "  'lat': 77.1177,\n",
       "  'lon': 28.7501,\n",
       "  'city_name': 'Mehamn',\n",
       "  'station_id': '010160-99999',\n",
       "  'data': [{'rh': 88,\n",
       "    'max_wind_spd_ts': 1534935600,\n",
       "    't_ghi': 3782.2,\n",
       "    'max_wind_spd': 2,\n",
       "    'solar_rad': 109.8,\n",
       "    'wind_gust_spd': 2,\n",
       "    'max_temp_ts': 1534939200,\n",
       "    'min_temp_ts': 1534971600,\n",
       "    'clouds': 68,\n",
       "    'max_dni': 690.7,\n",
       "    'precip_gpm': 0,\n",
       "    'wind_spd': 1.4,\n",
       "    'slp': 1001,\n",
       "    'ts': 1534888800,\n",
       "    'max_ghi': 339.6,\n",
       "    'temp': 2.7,\n",
       "    'pres': 998.5,\n",
       "    'dni': 431.3,\n",
       "    'dewpt': 0.9,\n",
       "    'snow': None,\n",
       "    'dhi': 50.5,\n",
       "    'precip': 0,\n",
       "    'wind_dir': 265,\n",
       "    'max_dhi': 80.4,\n",
       "    'ghi': 157.6,\n",
       "    'max_temp': 4,\n",
       "    't_dni': 10351.6,\n",
       "    'max_uv': 1.2,\n",
       "    't_dhi': 1212.9,\n",
       "    'datetime': '2018-08-22',\n",
       "    't_solar_rad': 2634.4,\n",
       "    'min_temp': 1.7,\n",
       "    'max_wind_dir': 330,\n",
       "    'snow_depth': None}],\n",
       "  'sources': ['010160-99999', 'imerg', 'merra2', 'era5', 'modis'],\n",
       "  'city_id': '778707'},\n",
       " {'timezone': 'Europe/Oslo',\n",
       "  'state_code': '05',\n",
       "  'country_code': 'NO',\n",
       "  'lat': 77.1177,\n",
       "  'lon': 28.7501,\n",
       "  'city_name': 'Mehamn',\n",
       "  'station_id': '010160-99999',\n",
       "  'data': [{'rh': 94.9,\n",
       "    'max_wind_spd_ts': 1534881600,\n",
       "    't_ghi': 3896.3,\n",
       "    'max_wind_spd': 11,\n",
       "    'solar_rad': 107.5,\n",
       "    'wind_gust_spd': 11,\n",
       "    'max_temp_ts': 1534881600,\n",
       "    'min_temp_ts': 1534870800,\n",
       "    'clouds': 74,\n",
       "    'max_dni': 694.3,\n",
       "    'precip_gpm': 0,\n",
       "    'wind_spd': 8.7,\n",
       "    'slp': 992.4,\n",
       "    'ts': 1534802400,\n",
       "    'max_ghi': 345.3,\n",
       "    'temp': 2.3,\n",
       "    'pres': 990,\n",
       "    'dni': 441.9,\n",
       "    'dewpt': 1.6,\n",
       "    'snow': None,\n",
       "    'dhi': 51.7,\n",
       "    'precip': 0,\n",
       "    'wind_dir': 51,\n",
       "    'max_dhi': 80.9,\n",
       "    'ghi': 162.3,\n",
       "    'max_temp': 2.6,\n",
       "    't_dni': 10604.8,\n",
       "    'max_uv': 1.2,\n",
       "    't_dhi': 1240.5,\n",
       "    'datetime': '2018-08-21',\n",
       "    't_solar_rad': 2579.8,\n",
       "    'min_temp': 2,\n",
       "    'max_wind_dir': 360,\n",
       "    'snow_depth': None}],\n",
       "  'sources': ['010160-99999', 'imerg', 'merra2', 'era5', 'modis'],\n",
       "  'city_id': '778707'}]"
      ]
     },
     "execution_count": 63,
     "metadata": {},
     "output_type": "execute_result"
    }
   ],
   "source": [
    "observations"
   ]
  },
  {
   "cell_type": "markdown",
   "metadata": {},
   "source": [
    "Print the number of retrieved days and the first observation to check if the results are correct."
   ]
  },
  {
   "cell_type": "code",
   "execution_count": 83,
   "metadata": {},
   "outputs": [
    {
     "data": {
      "text/plain": [
       "10"
      ]
     },
     "execution_count": 83,
     "metadata": {},
     "output_type": "execute_result"
    }
   ],
   "source": [
    "len(observations)"
   ]
  },
  {
   "cell_type": "code",
   "execution_count": 84,
   "metadata": {},
   "outputs": [
    {
     "data": {
      "text/plain": [
       "{'timezone': 'Europe/Oslo',\n",
       " 'state_code': '05',\n",
       " 'country_code': 'NO',\n",
       " 'lat': 77.1177,\n",
       " 'lon': 28.7501,\n",
       " 'city_name': 'Mehamn',\n",
       " 'station_id': '010160-99999',\n",
       " 'data': [{'rh': 97.5,\n",
       "   'max_wind_spd_ts': 1535659200,\n",
       "   't_ghi': 2931.7,\n",
       "   'max_wind_spd': 15,\n",
       "   'solar_rad': 120.6,\n",
       "   'wind_gust_spd': 15,\n",
       "   'max_temp_ts': 1535637600,\n",
       "   'min_temp_ts': 1535580000,\n",
       "   'clouds': 18,\n",
       "   'max_dni': 657.5,\n",
       "   'precip_gpm': 0,\n",
       "   'wind_spd': 7.5,\n",
       "   'slp': 1002.6,\n",
       "   'ts': 1535580000,\n",
       "   'max_ghi': 291.8,\n",
       "   'temp': 3.3,\n",
       "   'pres': 1000.1,\n",
       "   'dni': 356.6,\n",
       "   'dewpt': 3,\n",
       "   'snow': None,\n",
       "   'dhi': 41.2,\n",
       "   'precip': 0,\n",
       "   'wind_dir': 172,\n",
       "   'max_dhi': 75.5,\n",
       "   'ghi': 122.2,\n",
       "   'max_temp': 3.9,\n",
       "   't_dni': 8558.9,\n",
       "   'max_uv': 2.2,\n",
       "   't_dhi': 988.5,\n",
       "   'datetime': '2018-08-30',\n",
       "   't_solar_rad': 2893.2,\n",
       "   'min_temp': 2.6,\n",
       "   'max_wind_dir': 220,\n",
       "   'snow_depth': None}],\n",
       " 'sources': ['010160-99999', 'imerg', 'merra2', 'era5', 'modis'],\n",
       " 'city_id': '778707'}"
      ]
     },
     "execution_count": 84,
     "metadata": {},
     "output_type": "execute_result"
    }
   ],
   "source": [
    "observations[0]"
   ]
  },
  {
   "cell_type": "markdown",
   "metadata": {},
   "source": [
    "Great! Now, you can access the data using the python dictionaries. For example, the wind speed for the first observation can be accessed as "
   ]
  },
  {
   "cell_type": "code",
   "execution_count": 85,
   "metadata": {},
   "outputs": [
    {
     "name": "stdout",
     "output_type": "stream",
     "text": [
      "15\n"
     ]
    }
   ],
   "source": [
    "print(observations[0]['data'][0]['max_wind_spd'])"
   ]
  },
  {
   "cell_type": "markdown",
   "metadata": {},
   "source": [
    "It is convenient to work with this type of data as a pandas dataframe. There are many ways how to create dataframe from the data. We'll use dictionaries, so let's do some preparation first. Fill the following dictionary with the values from the retrieved data:"
   ]
  },
  {
   "cell_type": "code",
   "execution_count": 88,
   "metadata": {},
   "outputs": [],
   "source": [
    "data_dict = {\n",
    "    'datetime': [],\n",
    "    'state_code': [],\n",
    "    'country_code': [],\n",
    "    'lat': [],\n",
    "    'lon': [],\n",
    "    'city_name': [],\n",
    "    'station_id': [],\n",
    "    'ts': [],\n",
    "    'rh': [],\n",
    "    'clouds': [],\n",
    "    'pres': [],\n",
    "    'snow': [],\n",
    "    'snow_depth': [],\n",
    "    'precip': [],\n",
    "    'wind_spd': [],\n",
    "    'wind_dir': [],\n",
    "    'max_wind_spd': [],\n",
    "    'max_wind_dir': [],\n",
    "    'wind_gust_spd': [],\n",
    "    'temp': [],\n",
    "    'max_temp': [],\n",
    "    'min_temp': [],\n",
    "}"
   ]
  },
  {
   "cell_type": "code",
   "execution_count": 89,
   "metadata": {},
   "outputs": [
    {
     "data": {
      "text/html": [
       "<div>\n",
       "<style scoped>\n",
       "    .dataframe tbody tr th:only-of-type {\n",
       "        vertical-align: middle;\n",
       "    }\n",
       "\n",
       "    .dataframe tbody tr th {\n",
       "        vertical-align: top;\n",
       "    }\n",
       "\n",
       "    .dataframe thead th {\n",
       "        text-align: right;\n",
       "    }\n",
       "</style>\n",
       "<table border=\"1\" class=\"dataframe\">\n",
       "  <thead>\n",
       "    <tr style=\"text-align: right;\">\n",
       "      <th></th>\n",
       "      <th>datetime</th>\n",
       "      <th>state_code</th>\n",
       "      <th>country_code</th>\n",
       "      <th>lat</th>\n",
       "      <th>lon</th>\n",
       "      <th>city_name</th>\n",
       "      <th>station_id</th>\n",
       "      <th>ts</th>\n",
       "      <th>rh</th>\n",
       "      <th>clouds</th>\n",
       "      <th>...</th>\n",
       "      <th>snow_depth</th>\n",
       "      <th>precip</th>\n",
       "      <th>wind_spd</th>\n",
       "      <th>wind_dir</th>\n",
       "      <th>max_wind_spd</th>\n",
       "      <th>max_wind_dir</th>\n",
       "      <th>wind_gust_spd</th>\n",
       "      <th>temp</th>\n",
       "      <th>max_temp</th>\n",
       "      <th>min_temp</th>\n",
       "    </tr>\n",
       "  </thead>\n",
       "  <tbody>\n",
       "    <tr>\n",
       "      <th>0</th>\n",
       "      <td>2018-08-30</td>\n",
       "      <td>05</td>\n",
       "      <td>NO</td>\n",
       "      <td>77.1177</td>\n",
       "      <td>28.7501</td>\n",
       "      <td>Mehamn</td>\n",
       "      <td>010160-99999</td>\n",
       "      <td>1535580000</td>\n",
       "      <td>97.5</td>\n",
       "      <td>18</td>\n",
       "      <td>...</td>\n",
       "      <td>None</td>\n",
       "      <td>0</td>\n",
       "      <td>7.5</td>\n",
       "      <td>172</td>\n",
       "      <td>15</td>\n",
       "      <td>220</td>\n",
       "      <td>15</td>\n",
       "      <td>3.3</td>\n",
       "      <td>3.9</td>\n",
       "      <td>2.6</td>\n",
       "    </tr>\n",
       "    <tr>\n",
       "      <th>1</th>\n",
       "      <td>2018-08-29</td>\n",
       "      <td>05</td>\n",
       "      <td>NO</td>\n",
       "      <td>77.1177</td>\n",
       "      <td>28.7501</td>\n",
       "      <td>Mehamn</td>\n",
       "      <td>010160-99999</td>\n",
       "      <td>1535493600</td>\n",
       "      <td>91.7</td>\n",
       "      <td>22</td>\n",
       "      <td>...</td>\n",
       "      <td>None</td>\n",
       "      <td>0</td>\n",
       "      <td>6.2</td>\n",
       "      <td>205</td>\n",
       "      <td>9</td>\n",
       "      <td>230</td>\n",
       "      <td>9</td>\n",
       "      <td>2.2</td>\n",
       "      <td>3.0</td>\n",
       "      <td>0.4</td>\n",
       "    </tr>\n",
       "    <tr>\n",
       "      <th>2</th>\n",
       "      <td>2018-08-28</td>\n",
       "      <td>05</td>\n",
       "      <td>NO</td>\n",
       "      <td>77.1177</td>\n",
       "      <td>28.7501</td>\n",
       "      <td>Mehamn</td>\n",
       "      <td>010160-99999</td>\n",
       "      <td>1535407200</td>\n",
       "      <td>95.0</td>\n",
       "      <td>4</td>\n",
       "      <td>...</td>\n",
       "      <td>None</td>\n",
       "      <td>0</td>\n",
       "      <td>5.5</td>\n",
       "      <td>57</td>\n",
       "      <td>7</td>\n",
       "      <td>360</td>\n",
       "      <td>7</td>\n",
       "      <td>0.8</td>\n",
       "      <td>1.3</td>\n",
       "      <td>0.3</td>\n",
       "    </tr>\n",
       "    <tr>\n",
       "      <th>3</th>\n",
       "      <td>2018-08-27</td>\n",
       "      <td>05</td>\n",
       "      <td>NO</td>\n",
       "      <td>77.1177</td>\n",
       "      <td>28.7501</td>\n",
       "      <td>Mehamn</td>\n",
       "      <td>010160-99999</td>\n",
       "      <td>1535320800</td>\n",
       "      <td>87.8</td>\n",
       "      <td>2</td>\n",
       "      <td>...</td>\n",
       "      <td>None</td>\n",
       "      <td>0</td>\n",
       "      <td>2.7</td>\n",
       "      <td>177</td>\n",
       "      <td>5</td>\n",
       "      <td>360</td>\n",
       "      <td>5</td>\n",
       "      <td>2.0</td>\n",
       "      <td>3.2</td>\n",
       "      <td>1.0</td>\n",
       "    </tr>\n",
       "    <tr>\n",
       "      <th>4</th>\n",
       "      <td>2018-08-26</td>\n",
       "      <td>05</td>\n",
       "      <td>NO</td>\n",
       "      <td>77.1177</td>\n",
       "      <td>28.7501</td>\n",
       "      <td>Mehamn</td>\n",
       "      <td>010160-99999</td>\n",
       "      <td>1535234400</td>\n",
       "      <td>91.5</td>\n",
       "      <td>0</td>\n",
       "      <td>...</td>\n",
       "      <td>None</td>\n",
       "      <td>0</td>\n",
       "      <td>8.5</td>\n",
       "      <td>86</td>\n",
       "      <td>13</td>\n",
       "      <td>360</td>\n",
       "      <td>13</td>\n",
       "      <td>1.5</td>\n",
       "      <td>1.8</td>\n",
       "      <td>1.3</td>\n",
       "    </tr>\n",
       "  </tbody>\n",
       "</table>\n",
       "<p>5 rows × 22 columns</p>\n",
       "</div>"
      ],
      "text/plain": [
       "     datetime state_code country_code      lat      lon city_name  \\\n",
       "0  2018-08-30         05           NO  77.1177  28.7501    Mehamn   \n",
       "1  2018-08-29         05           NO  77.1177  28.7501    Mehamn   \n",
       "2  2018-08-28         05           NO  77.1177  28.7501    Mehamn   \n",
       "3  2018-08-27         05           NO  77.1177  28.7501    Mehamn   \n",
       "4  2018-08-26         05           NO  77.1177  28.7501    Mehamn   \n",
       "\n",
       "     station_id          ts    rh  clouds  ...  snow_depth precip wind_spd  \\\n",
       "0  010160-99999  1535580000  97.5      18  ...        None      0      7.5   \n",
       "1  010160-99999  1535493600  91.7      22  ...        None      0      6.2   \n",
       "2  010160-99999  1535407200  95.0       4  ...        None      0      5.5   \n",
       "3  010160-99999  1535320800  87.8       2  ...        None      0      2.7   \n",
       "4  010160-99999  1535234400  91.5       0  ...        None      0      8.5   \n",
       "\n",
       "   wind_dir  max_wind_spd  max_wind_dir  wind_gust_spd  temp  max_temp  \\\n",
       "0       172            15           220             15   3.3       3.9   \n",
       "1       205             9           230              9   2.2       3.0   \n",
       "2        57             7           360              7   0.8       1.3   \n",
       "3       177             5           360              5   2.0       3.2   \n",
       "4        86            13           360             13   1.5       1.8   \n",
       "\n",
       "   min_temp  \n",
       "0       2.6  \n",
       "1       0.4  \n",
       "2       0.3  \n",
       "3       1.0  \n",
       "4       1.3  \n",
       "\n",
       "[5 rows x 22 columns]"
      ]
     },
     "execution_count": 89,
     "metadata": {},
     "output_type": "execute_result"
    }
   ],
   "source": [
    "for key in data_dict.keys():\n",
    "    if key in ['state_code','country_code','lat','lon','city_name','station_id']:\n",
    "        data_dict[key] = [observations[i][key] for i in range(10)]   \n",
    "    else:\n",
    "        data_dict[key] = [observations[i]['data'][0][key] for i in range(10)]\n",
    "\n",
    "import pandas as pd\n",
    "df = pd.DataFrame.from_dict(data_dict)\n",
    "df.head()"
   ]
  },
  {
   "cell_type": "markdown",
   "metadata": {},
   "source": [
    "Now, ```import pandas as pd``` and use the ```df = pd.DataFrame.from_dict(data_dict)``` to create the dataframe. It's also convenient to set index to the ```'datetime'``` column. Finaly, use ```df.info()``` and ```df.head()``` to check if the created dataframe is correct."
   ]
  },
  {
   "cell_type": "markdown",
   "metadata": {},
   "source": [
    "Cool! Save the dataframe into a csv file using ```df.to_csv('my_dtu_weather.csv')```"
   ]
  },
  {
   "cell_type": "code",
   "execution_count": 102,
   "metadata": {},
   "outputs": [],
   "source": [
    "df.to_csv('my_dtu_weather.csv')"
   ]
  },
  {
   "cell_type": "markdown",
   "metadata": {},
   "source": [
    "#### 1.4. Plotting the data"
   ]
  },
  {
   "cell_type": "markdown",
   "metadata": {},
   "source": [
    "Read the data to dataframe from the \"dtu_weather_199.csv\" file. You can use the ```pd.read_csv``` function with the following parameters: ```index_col='datetime'``` and ```parse_dates=True```."
   ]
  },
  {
   "cell_type": "code",
   "execution_count": 108,
   "metadata": {},
   "outputs": [
    {
     "data": {
      "text/html": [
       "<div>\n",
       "<style scoped>\n",
       "    .dataframe tbody tr th:only-of-type {\n",
       "        vertical-align: middle;\n",
       "    }\n",
       "\n",
       "    .dataframe tbody tr th {\n",
       "        vertical-align: top;\n",
       "    }\n",
       "\n",
       "    .dataframe thead th {\n",
       "        text-align: right;\n",
       "    }\n",
       "</style>\n",
       "<table border=\"1\" class=\"dataframe\">\n",
       "  <thead>\n",
       "    <tr style=\"text-align: right;\">\n",
       "      <th></th>\n",
       "      <th>Unnamed: 0</th>\n",
       "      <th>state_code</th>\n",
       "      <th>country_code</th>\n",
       "      <th>lat</th>\n",
       "      <th>lon</th>\n",
       "      <th>city_name</th>\n",
       "      <th>station_id</th>\n",
       "      <th>ts</th>\n",
       "      <th>rh</th>\n",
       "      <th>clouds</th>\n",
       "      <th>...</th>\n",
       "      <th>snow_depth</th>\n",
       "      <th>precip</th>\n",
       "      <th>wind_spd</th>\n",
       "      <th>wind_dir</th>\n",
       "      <th>max_wind_spd</th>\n",
       "      <th>max_wind_dir</th>\n",
       "      <th>wind_gust_spd</th>\n",
       "      <th>temp</th>\n",
       "      <th>max_temp</th>\n",
       "      <th>min_temp</th>\n",
       "    </tr>\n",
       "    <tr>\n",
       "      <th>datetime</th>\n",
       "      <th></th>\n",
       "      <th></th>\n",
       "      <th></th>\n",
       "      <th></th>\n",
       "      <th></th>\n",
       "      <th></th>\n",
       "      <th></th>\n",
       "      <th></th>\n",
       "      <th></th>\n",
       "      <th></th>\n",
       "      <th></th>\n",
       "      <th></th>\n",
       "      <th></th>\n",
       "      <th></th>\n",
       "      <th></th>\n",
       "      <th></th>\n",
       "      <th></th>\n",
       "      <th></th>\n",
       "      <th></th>\n",
       "      <th></th>\n",
       "      <th></th>\n",
       "    </tr>\n",
       "  </thead>\n",
       "  <tbody>\n",
       "    <tr>\n",
       "      <th>2018-08-30</th>\n",
       "      <td>0</td>\n",
       "      <td>5</td>\n",
       "      <td>NO</td>\n",
       "      <td>77.1177</td>\n",
       "      <td>28.7501</td>\n",
       "      <td>Mehamn</td>\n",
       "      <td>010160-99999</td>\n",
       "      <td>1535580000</td>\n",
       "      <td>97.5</td>\n",
       "      <td>18</td>\n",
       "      <td>...</td>\n",
       "      <td>NaN</td>\n",
       "      <td>0</td>\n",
       "      <td>7.5</td>\n",
       "      <td>172</td>\n",
       "      <td>15</td>\n",
       "      <td>220</td>\n",
       "      <td>15</td>\n",
       "      <td>3.3</td>\n",
       "      <td>3.9</td>\n",
       "      <td>2.6</td>\n",
       "    </tr>\n",
       "    <tr>\n",
       "      <th>2018-08-29</th>\n",
       "      <td>1</td>\n",
       "      <td>5</td>\n",
       "      <td>NO</td>\n",
       "      <td>77.1177</td>\n",
       "      <td>28.7501</td>\n",
       "      <td>Mehamn</td>\n",
       "      <td>010160-99999</td>\n",
       "      <td>1535493600</td>\n",
       "      <td>91.7</td>\n",
       "      <td>22</td>\n",
       "      <td>...</td>\n",
       "      <td>NaN</td>\n",
       "      <td>0</td>\n",
       "      <td>6.2</td>\n",
       "      <td>205</td>\n",
       "      <td>9</td>\n",
       "      <td>230</td>\n",
       "      <td>9</td>\n",
       "      <td>2.2</td>\n",
       "      <td>3.0</td>\n",
       "      <td>0.4</td>\n",
       "    </tr>\n",
       "    <tr>\n",
       "      <th>2018-08-28</th>\n",
       "      <td>2</td>\n",
       "      <td>5</td>\n",
       "      <td>NO</td>\n",
       "      <td>77.1177</td>\n",
       "      <td>28.7501</td>\n",
       "      <td>Mehamn</td>\n",
       "      <td>010160-99999</td>\n",
       "      <td>1535407200</td>\n",
       "      <td>95.0</td>\n",
       "      <td>4</td>\n",
       "      <td>...</td>\n",
       "      <td>NaN</td>\n",
       "      <td>0</td>\n",
       "      <td>5.5</td>\n",
       "      <td>57</td>\n",
       "      <td>7</td>\n",
       "      <td>360</td>\n",
       "      <td>7</td>\n",
       "      <td>0.8</td>\n",
       "      <td>1.3</td>\n",
       "      <td>0.3</td>\n",
       "    </tr>\n",
       "    <tr>\n",
       "      <th>2018-08-27</th>\n",
       "      <td>3</td>\n",
       "      <td>5</td>\n",
       "      <td>NO</td>\n",
       "      <td>77.1177</td>\n",
       "      <td>28.7501</td>\n",
       "      <td>Mehamn</td>\n",
       "      <td>010160-99999</td>\n",
       "      <td>1535320800</td>\n",
       "      <td>87.8</td>\n",
       "      <td>2</td>\n",
       "      <td>...</td>\n",
       "      <td>NaN</td>\n",
       "      <td>0</td>\n",
       "      <td>2.7</td>\n",
       "      <td>177</td>\n",
       "      <td>5</td>\n",
       "      <td>360</td>\n",
       "      <td>5</td>\n",
       "      <td>2.0</td>\n",
       "      <td>3.2</td>\n",
       "      <td>1.0</td>\n",
       "    </tr>\n",
       "    <tr>\n",
       "      <th>2018-08-26</th>\n",
       "      <td>4</td>\n",
       "      <td>5</td>\n",
       "      <td>NO</td>\n",
       "      <td>77.1177</td>\n",
       "      <td>28.7501</td>\n",
       "      <td>Mehamn</td>\n",
       "      <td>010160-99999</td>\n",
       "      <td>1535234400</td>\n",
       "      <td>91.5</td>\n",
       "      <td>0</td>\n",
       "      <td>...</td>\n",
       "      <td>NaN</td>\n",
       "      <td>0</td>\n",
       "      <td>8.5</td>\n",
       "      <td>86</td>\n",
       "      <td>13</td>\n",
       "      <td>360</td>\n",
       "      <td>13</td>\n",
       "      <td>1.5</td>\n",
       "      <td>1.8</td>\n",
       "      <td>1.3</td>\n",
       "    </tr>\n",
       "    <tr>\n",
       "      <th>2018-08-25</th>\n",
       "      <td>5</td>\n",
       "      <td>5</td>\n",
       "      <td>NO</td>\n",
       "      <td>77.1177</td>\n",
       "      <td>28.7501</td>\n",
       "      <td>Mehamn</td>\n",
       "      <td>010160-99999</td>\n",
       "      <td>1535148000</td>\n",
       "      <td>88.0</td>\n",
       "      <td>8</td>\n",
       "      <td>...</td>\n",
       "      <td>NaN</td>\n",
       "      <td>0</td>\n",
       "      <td>7.3</td>\n",
       "      <td>36</td>\n",
       "      <td>12</td>\n",
       "      <td>70</td>\n",
       "      <td>12</td>\n",
       "      <td>1.9</td>\n",
       "      <td>2.3</td>\n",
       "      <td>0.9</td>\n",
       "    </tr>\n",
       "    <tr>\n",
       "      <th>2018-08-24</th>\n",
       "      <td>6</td>\n",
       "      <td>5</td>\n",
       "      <td>NO</td>\n",
       "      <td>77.1177</td>\n",
       "      <td>28.7501</td>\n",
       "      <td>Mehamn</td>\n",
       "      <td>010160-99999</td>\n",
       "      <td>1535061600</td>\n",
       "      <td>88.7</td>\n",
       "      <td>49</td>\n",
       "      <td>...</td>\n",
       "      <td>NaN</td>\n",
       "      <td>0</td>\n",
       "      <td>8.9</td>\n",
       "      <td>20</td>\n",
       "      <td>10</td>\n",
       "      <td>30</td>\n",
       "      <td>10</td>\n",
       "      <td>2.0</td>\n",
       "      <td>2.8</td>\n",
       "      <td>1.4</td>\n",
       "    </tr>\n",
       "    <tr>\n",
       "      <th>2018-08-23</th>\n",
       "      <td>7</td>\n",
       "      <td>5</td>\n",
       "      <td>NO</td>\n",
       "      <td>77.1177</td>\n",
       "      <td>28.7501</td>\n",
       "      <td>Mehamn</td>\n",
       "      <td>010160-99999</td>\n",
       "      <td>1534975200</td>\n",
       "      <td>86.0</td>\n",
       "      <td>65</td>\n",
       "      <td>...</td>\n",
       "      <td>NaN</td>\n",
       "      <td>0</td>\n",
       "      <td>3.3</td>\n",
       "      <td>58</td>\n",
       "      <td>8</td>\n",
       "      <td>340</td>\n",
       "      <td>8</td>\n",
       "      <td>3.0</td>\n",
       "      <td>4.5</td>\n",
       "      <td>1.3</td>\n",
       "    </tr>\n",
       "    <tr>\n",
       "      <th>2018-08-22</th>\n",
       "      <td>8</td>\n",
       "      <td>5</td>\n",
       "      <td>NO</td>\n",
       "      <td>77.1177</td>\n",
       "      <td>28.7501</td>\n",
       "      <td>Mehamn</td>\n",
       "      <td>010160-99999</td>\n",
       "      <td>1534888800</td>\n",
       "      <td>88.0</td>\n",
       "      <td>68</td>\n",
       "      <td>...</td>\n",
       "      <td>NaN</td>\n",
       "      <td>0</td>\n",
       "      <td>1.4</td>\n",
       "      <td>265</td>\n",
       "      <td>2</td>\n",
       "      <td>330</td>\n",
       "      <td>2</td>\n",
       "      <td>2.7</td>\n",
       "      <td>4.0</td>\n",
       "      <td>1.7</td>\n",
       "    </tr>\n",
       "    <tr>\n",
       "      <th>2018-08-21</th>\n",
       "      <td>9</td>\n",
       "      <td>5</td>\n",
       "      <td>NO</td>\n",
       "      <td>77.1177</td>\n",
       "      <td>28.7501</td>\n",
       "      <td>Mehamn</td>\n",
       "      <td>010160-99999</td>\n",
       "      <td>1534802400</td>\n",
       "      <td>94.9</td>\n",
       "      <td>74</td>\n",
       "      <td>...</td>\n",
       "      <td>NaN</td>\n",
       "      <td>0</td>\n",
       "      <td>8.7</td>\n",
       "      <td>51</td>\n",
       "      <td>11</td>\n",
       "      <td>360</td>\n",
       "      <td>11</td>\n",
       "      <td>2.3</td>\n",
       "      <td>2.6</td>\n",
       "      <td>2.0</td>\n",
       "    </tr>\n",
       "  </tbody>\n",
       "</table>\n",
       "<p>10 rows × 22 columns</p>\n",
       "</div>"
      ],
      "text/plain": [
       "            Unnamed: 0  state_code country_code      lat      lon city_name  \\\n",
       "datetime                                                                      \n",
       "2018-08-30           0           5           NO  77.1177  28.7501    Mehamn   \n",
       "2018-08-29           1           5           NO  77.1177  28.7501    Mehamn   \n",
       "2018-08-28           2           5           NO  77.1177  28.7501    Mehamn   \n",
       "2018-08-27           3           5           NO  77.1177  28.7501    Mehamn   \n",
       "2018-08-26           4           5           NO  77.1177  28.7501    Mehamn   \n",
       "2018-08-25           5           5           NO  77.1177  28.7501    Mehamn   \n",
       "2018-08-24           6           5           NO  77.1177  28.7501    Mehamn   \n",
       "2018-08-23           7           5           NO  77.1177  28.7501    Mehamn   \n",
       "2018-08-22           8           5           NO  77.1177  28.7501    Mehamn   \n",
       "2018-08-21           9           5           NO  77.1177  28.7501    Mehamn   \n",
       "\n",
       "              station_id          ts    rh  clouds  ...  snow_depth  precip  \\\n",
       "datetime                                            ...                       \n",
       "2018-08-30  010160-99999  1535580000  97.5      18  ...         NaN       0   \n",
       "2018-08-29  010160-99999  1535493600  91.7      22  ...         NaN       0   \n",
       "2018-08-28  010160-99999  1535407200  95.0       4  ...         NaN       0   \n",
       "2018-08-27  010160-99999  1535320800  87.8       2  ...         NaN       0   \n",
       "2018-08-26  010160-99999  1535234400  91.5       0  ...         NaN       0   \n",
       "2018-08-25  010160-99999  1535148000  88.0       8  ...         NaN       0   \n",
       "2018-08-24  010160-99999  1535061600  88.7      49  ...         NaN       0   \n",
       "2018-08-23  010160-99999  1534975200  86.0      65  ...         NaN       0   \n",
       "2018-08-22  010160-99999  1534888800  88.0      68  ...         NaN       0   \n",
       "2018-08-21  010160-99999  1534802400  94.9      74  ...         NaN       0   \n",
       "\n",
       "            wind_spd  wind_dir  max_wind_spd  max_wind_dir  wind_gust_spd  \\\n",
       "datetime                                                                    \n",
       "2018-08-30       7.5       172            15           220             15   \n",
       "2018-08-29       6.2       205             9           230              9   \n",
       "2018-08-28       5.5        57             7           360              7   \n",
       "2018-08-27       2.7       177             5           360              5   \n",
       "2018-08-26       8.5        86            13           360             13   \n",
       "2018-08-25       7.3        36            12            70             12   \n",
       "2018-08-24       8.9        20            10            30             10   \n",
       "2018-08-23       3.3        58             8           340              8   \n",
       "2018-08-22       1.4       265             2           330              2   \n",
       "2018-08-21       8.7        51            11           360             11   \n",
       "\n",
       "            temp  max_temp  min_temp  \n",
       "datetime                              \n",
       "2018-08-30   3.3       3.9       2.6  \n",
       "2018-08-29   2.2       3.0       0.4  \n",
       "2018-08-28   0.8       1.3       0.3  \n",
       "2018-08-27   2.0       3.2       1.0  \n",
       "2018-08-26   1.5       1.8       1.3  \n",
       "2018-08-25   1.9       2.3       0.9  \n",
       "2018-08-24   2.0       2.8       1.4  \n",
       "2018-08-23   3.0       4.5       1.3  \n",
       "2018-08-22   2.7       4.0       1.7  \n",
       "2018-08-21   2.3       2.6       2.0  \n",
       "\n",
       "[10 rows x 22 columns]"
      ]
     },
     "execution_count": 108,
     "metadata": {},
     "output_type": "execute_result"
    }
   ],
   "source": [
    "data = pd.read_csv('my_dtu_weather.csv',index_col='datetime',parse_dates=True)\n",
    "data"
   ]
  },
  {
   "cell_type": "code",
   "execution_count": 113,
   "metadata": {},
   "outputs": [
    {
     "data": {
      "text/plain": [
       "datetime\n",
       "2018-08-30    3.9\n",
       "2018-08-29    3.0\n",
       "2018-08-28    1.3\n",
       "2018-08-27    3.2\n",
       "2018-08-26    1.8\n",
       "2018-08-25    2.3\n",
       "2018-08-24    2.8\n",
       "2018-08-23    4.5\n",
       "2018-08-22    4.0\n",
       "2018-08-21    2.6\n",
       "Name: max_temp, dtype: float64"
      ]
     },
     "execution_count": 113,
     "metadata": {},
     "output_type": "execute_result"
    }
   ],
   "source": [
    "data['max_temp']"
   ]
  },
  {
   "cell_type": "markdown",
   "metadata": {},
   "source": [
    "Let's make some plots. Plot maximum, minimum and average temperature."
   ]
  },
  {
   "cell_type": "code",
   "execution_count": 118,
   "metadata": {},
   "outputs": [
    {
     "data": {
      "text/plain": [
       "<matplotlib.axes._subplots.AxesSubplot at 0x7f968b348670>"
      ]
     },
     "execution_count": 118,
     "metadata": {},
     "output_type": "execute_result"
    },
    {
     "data": {
      "image/png": "[encoded data removed]",
      "text/plain": [
       "<Figure size 432x288 with 1 Axes>"
      ]
     },
     "metadata": {
      "needs_background": "light"
     },
     "output_type": "display_data"
    }
   ],
   "source": [
    "# max\n",
    "data['max_temp'].plot(kind='line')"
   ]
  },
  {
   "cell_type": "code",
   "execution_count": 115,
   "metadata": {},
   "outputs": [
    {
     "data": {
      "text/plain": [
       "<matplotlib.axes._subplots.AxesSubplot at 0x7f968b385040>"
      ]
     },
     "execution_count": 115,
     "metadata": {},
     "output_type": "execute_result"
    },
    {
     "data": {
      "image/png": "[encoded data removed]",
      "text/plain": [
       "<Figure size 432x288 with 1 Axes>"
      ]
     },
     "metadata": {
      "needs_background": "light"
     },
     "output_type": "display_data"
    }
   ],
   "source": [
    "#min\n",
    "data['min_temp'].plot(kind='line')"
   ]
  },
  {
   "cell_type": "code",
   "execution_count": 117,
   "metadata": {},
   "outputs": [
    {
     "data": {
      "text/plain": [
       "<matplotlib.axes._subplots.AxesSubplot at 0x7f968b4c2a00>"
      ]
     },
     "execution_count": 117,
     "metadata": {},
     "output_type": "execute_result"
    },
    {
     "data": {
      "image/png": "[encoded data removed]",
      "text/plain": [
       "<Figure size 432x288 with 1 Axes>"
      ]
     },
     "metadata": {
      "needs_background": "light"
     },
     "output_type": "display_data"
    }
   ],
   "source": [
    "#average\n",
    "data['temp'].plot(kind='line')"
   ]
  },
  {
   "cell_type": "markdown",
   "metadata": {},
   "source": [
    "To plot wind speed depending on wind direction, polar plots are helpful. Check https://matplotlib.org/gallery/pie_and_polar_charts/polar_demo.html for the details.\n",
    "\n",
    "Hints:\n",
    "- polar plots are using radians instead of degrees, so create another column ```'wind_dir_rad'``` using a function from numpy ```np.radians()```\n",
    "- to align 0 to the north and enforce clock-wise direction, you can use  ```ax.set_theta_zero_location('N')``` and \n",
    "```ax.set_theta_direction(-1)``` respectively"
   ]
  },
  {
   "cell_type": "code",
   "execution_count": 119,
   "metadata": {
    "scrolled": true
   },
   "outputs": [
    {
     "data": {
      "image/png": "[encoded data removed]",
      "text/plain": [
       "<Figure size 432x288 with 1 Axes>"
      ]
     },
     "metadata": {
      "needs_background": "light"
     },
     "output_type": "display_data"
    }
   ],
   "source": [
    "import numpy as np\n",
    "\n",
    "#df['wind_dir_rad'] = df['wind_dir'].apply(lambda x: np.radians(x))\n",
    "df['wind_dir_rad'] = np.radians(df['wind_dir'])\n",
    "\n",
    "ax = plt.subplot(111, projection='polar')\n",
    "ax.scatter(df['wind_dir_rad'], df['wind_spd'])\n",
    "ax.set_theta_zero_location('N')\n",
    "ax.set_theta_direction(-1)\n",
    "plt.show()"
   ]
  },
  {
   "cell_type": "markdown",
   "metadata": {},
   "source": [
    "The wind data is a bit scattered. A better representation might be to plot mean and standard deviation for each wind direction. For example, the mean can be computed as \n",
    "```\n",
    "mean = df['wind_spd'].groupby([df['wind_dir_rad']]).mean()\n",
    "```\n",
    "\n",
    "Hint: To plot standard deviation, you can plot the two lines corresponding to mean +/- std"
   ]
  },
  {
   "cell_type": "code",
   "execution_count": 12,
   "metadata": {},
   "outputs": [],
   "source": [
    "#..."
   ]
  },
  {
   "cell_type": "markdown",
   "metadata": {},
   "source": [
    "It seems that we have too few data points for each wind direction to get useful insights. Let's try to aggregate data by the 16 main wind directions (North, North-NorthEast, NorthEast, etc). We can use the ```round_degrees()``` function defined below to round the wind direction. Create new column 'wind_dir_agg_rad' in the dataframe using this function.\n",
    "\n",
    "Siderequest: Can you rewrite this 'ugly' function to make it more 'elegant'?"
   ]
  },
  {
   "cell_type": "code",
   "execution_count": 29,
   "metadata": {},
   "outputs": [],
   "source": [
    "def round_degrees(val):\n",
    "    if val >= 348.75 or val < 11.25:\n",
    "         return 0.0\n",
    "    elif val >= 11.25 and val < 33.75:\n",
    "         return 22.5\n",
    "    elif val >= 33.75 and val < 56.25:\n",
    "         return 45.0\n",
    "    elif val >= 56.25 and val < 78.75:\n",
    "         return 67.5\n",
    "    elif val >= 78.75 and val < 101.25:\n",
    "         return 90.0\n",
    "    elif val >= 101.25 and val < 123.75:\n",
    "         return 112.5\n",
    "    elif val >= 123.75 and val < 146.25:\n",
    "         return 135.0\n",
    "    elif val >= 146.25 and val < 168.75:\n",
    "         return 157.5\n",
    "    elif val >= 168.75 and val < 191.25:\n",
    "         return 180.0\n",
    "    elif val >= 191.25 and val < 213.75:\n",
    "         return 202.5\n",
    "    elif val >= 213.75 and val < 236.25:\n",
    "         return 225.0\n",
    "    elif val >= 236.25 and val < 258.75:\n",
    "         return 247.5\n",
    "    elif val >= 258.75 and val < 281.25:\n",
    "         return 270.0\n",
    "    elif val >= 281.25 and val < 303.75:\n",
    "         return 292.5\n",
    "    elif val >= 303.75 and val < 326.25:\n",
    "         return 315.0\n",
    "    elif val >= 326.25 and val < 348.75:\n",
    "         return 337.5"
   ]
  },
  {
   "cell_type": "code",
   "execution_count": 14,
   "metadata": {},
   "outputs": [],
   "source": [
    "#..."
   ]
  },
  {
   "cell_type": "markdown",
   "metadata": {},
   "source": [
    "Finally, let's try again to plot the aggregated values."
   ]
  },
  {
   "cell_type": "code",
   "execution_count": 13,
   "metadata": {},
   "outputs": [],
   "source": [
    "#..."
   ]
  },
  {
   "cell_type": "markdown",
   "metadata": {},
   "source": [
    "Much better! We can see that the most strong wind direction was East-NorthEast (ENE or 67.5 degrees). Also, there was no wind from the north. Might it be related to the great summer we had that year in Denmark?"
   ]
  }
 ],
 "metadata": {
  "kernelspec": {
   "display_name": "Python 3",
   "language": "python",
   "name": "python3"
  },
  "language_info": {
   "codemirror_mode": {
    "name": "ipython",
    "version": 3
   },
   "file_extension": ".py",
   "mimetype": "text/x-python",
   "name": "python",
   "nbconvert_exporter": "python",
   "pygments_lexer": "ipython3",
   "version": "3.8.3"
  }
 },
 "nbformat": 4,
 "nbformat_minor": 2
}
